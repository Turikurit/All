{
 "cells": [
  {
   "cell_type": "code",
   "execution_count": 16,
   "id": "55d71787",
   "metadata": {},
   "outputs": [
    {
     "name": "stdout",
     "output_type": "stream",
     "text": [
      "what is your name?Артур\n",
      "втоё имя Артур\n"
     ]
    }
   ],
   "source": [
    "имя = input('what is your name?')\n",
    "print ('втоё имя ' + имя)"
   ]
  },
  {
   "cell_type": "code",
   "execution_count": 13,
   "id": "0b557b76",
   "metadata": {},
   "outputs": [
    {
     "name": "stdout",
     "output_type": "stream",
     "text": [
      "0\n",
      "1\n",
      "2\n",
      "3\n",
      "4\n",
      "5\n",
      "6\n",
      "7\n",
      "8\n",
      "9\n"
     ]
    }
   ],
   "source": [
    "for a in range(10):\n",
    "    print(a)"
   ]
  },
  {
   "cell_type": "code",
   "execution_count": 17,
   "id": "e46cb262",
   "metadata": {},
   "outputs": [
    {
     "name": "stdout",
     "output_type": "stream",
     "text": [
      "9\n"
     ]
    }
   ],
   "source": [
    "y = 9\n",
    "x = y\n",
    "y = 7\n",
    "print (x)"
   ]
  },
  {
   "cell_type": "code",
   "execution_count": 28,
   "id": "7b951ba0",
   "metadata": {},
   "outputs": [
    {
     "name": "stdout",
     "output_type": "stream",
     "text": [
      "18\n"
     ]
    }
   ],
   "source": [
    "x,y = 1,8\n",
    "print (str(x) + str(y))"
   ]
  },
  {
   "cell_type": "code",
   "execution_count": 25,
   "id": "33cbc1b1",
   "metadata": {},
   "outputs": [
    {
     "name": "stdout",
     "output_type": "stream",
     "text": [
      "4\n"
     ]
    }
   ],
   "source": [
    "a = int(input())\n",
    "if a > 5 and a < 10:\n",
    "    print ('yeah')\n"
   ]
  },
  {
   "cell_type": "code",
   "execution_count": 32,
   "id": "6947004d",
   "metadata": {},
   "outputs": [
    {
     "name": "stdout",
     "output_type": "stream",
     "text": [
      "    123.44\n"
     ]
    }
   ],
   "source": [
    "a = 123.444\n",
    "print (\"{:10.2f}\".format(a))"
   ]
  },
  {
   "cell_type": "code",
   "execution_count": 33,
   "id": "f84f4ee5",
   "metadata": {},
   "outputs": [
    {
     "name": "stdout",
     "output_type": "stream",
     "text": [
      "radius =4\n",
      "area =     50.27 \n"
     ]
    }
   ],
   "source": [
    "import math\n",
    "r = float(input('radius ='))\n",
    "print(\"%-10s %.2f \" % ('area =', math.pi*r*r))\n"
   ]
  },
  {
   "cell_type": "code",
   "execution_count": 38,
   "id": "b1710dba",
   "metadata": {},
   "outputs": [
    {
     "name": "stdout",
     "output_type": "stream",
     "text": [
      "2\n"
     ]
    }
   ],
   "source": [
    "import random\n",
    "x = random.randint(1,6)\n",
    "print (x)"
   ]
  },
  {
   "cell_type": "code",
   "execution_count": 44,
   "id": "ff3a7aeb",
   "metadata": {},
   "outputs": [
    {
     "name": "stdout",
     "output_type": "stream",
     "text": [
      "1\n",
      "27\n",
      "3125\n"
     ]
    }
   ],
   "source": [
    "for x in range(1,6,2):\n",
    "    print(x**x)"
   ]
  },
  {
   "cell_type": "code",
   "execution_count": 46,
   "id": "843088de",
   "metadata": {},
   "outputs": [
    {
     "name": "stdout",
     "output_type": "stream",
     "text": [
      "0\n",
      "1\n",
      "2\n",
      "3\n",
      "4\n",
      "5\n",
      "6\n",
      "7\n",
      "8\n",
      "9\n"
     ]
    }
   ],
   "source": [
    "k = 0\n",
    "while k<10:\n",
    "    print(k)\n",
    "    k += 1"
   ]
  },
  {
   "cell_type": "code",
   "execution_count": 47,
   "id": "a75079ce",
   "metadata": {},
   "outputs": [
    {
     "name": "stdout",
     "output_type": "stream",
     "text": [
      "4\n",
      "1\n",
      "2\n",
      "4\n",
      "8\n",
      "16\n"
     ]
    }
   ],
   "source": [
    "n = int(input())\n",
    "num = 1\n",
    "for i in range(n+1):\n",
    "    print(num)\n",
    "    num = num * 2\n",
    "    "
   ]
  },
  {
   "cell_type": "code",
   "execution_count": 52,
   "id": "86323052",
   "metadata": {},
   "outputs": [
    {
     "name": "stdout",
     "output_type": "stream",
     "text": [
      "167\n",
      "sum of digits: 14\n"
     ]
    }
   ],
   "source": [
    "n = int(input())\n",
    "sum = 0\n",
    "\n",
    "while n>0:\n",
    "    sum = sum + (n % 10)\n",
    "    n = n // 10\n",
    "    \n",
    "print('sum of digits: ' + str(sum))"
   ]
  },
  {
   "cell_type": "code",
   "execution_count": 54,
   "id": "46ef88a6",
   "metadata": {},
   "outputs": [
    {
     "name": "stdout",
     "output_type": "stream",
     "text": [
      "0\n",
      "1\n",
      "1\n",
      "2\n",
      "3\n",
      "5\n",
      "8\n",
      "13\n",
      "21\n",
      "34\n",
      "55\n",
      "89\n"
     ]
    }
   ],
   "source": [
    "a,b = 0,1\n",
    "print(a)\n",
    "while b<100:\n",
    "    print(b)\n",
    "    a,b =b, a+b\n",
    "    \n"
   ]
  },
  {
   "cell_type": "code",
   "execution_count": 60,
   "id": "7c65025d",
   "metadata": {},
   "outputs": [
    {
     "name": "stdout",
     "output_type": "stream",
     "text": [
      "0.479425538604203\n",
      "0.479425538604203\n"
     ]
    }
   ],
   "source": [
    "import math\n",
    "x = 0.5\n",
    "s = x \n",
    "t = x\n",
    "eps = 1e-12\n",
    "k = 1\n",
    "while math.fabs(t)> eps:\n",
    "    t *= -x*x/((2*k)*(2*k+1))\n",
    "    k += 1\n",
    "    s += t\n",
    "print(math.sin(x))\n",
    "print(s)"
   ]
  },
  {
   "cell_type": "code",
   "execution_count": 70,
   "id": "88b0969f",
   "metadata": {},
   "outputs": [
    {
     "name": "stdout",
     "output_type": "stream",
     "text": [
      "2 is a prime number\n",
      "3 is a prime number\n",
      "5 is a prime number\n",
      "7 is a prime number\n",
      "11 is a prime number\n",
      "13 is a prime number\n",
      "17 is a prime number\n",
      "19 is a prime number\n",
      "23 is a prime number\n",
      "29 is a prime number\n",
      "31 is a prime number\n",
      "37 is a prime number\n",
      "41 is a prime number\n",
      "43 is a prime number\n",
      "47 is a prime number\n",
      "53 is a prime number\n",
      "59 is a prime number\n",
      "61 is a prime number\n",
      "67 is a prime number\n",
      "71 is a prime number\n",
      "73 is a prime number\n",
      "79 is a prime number\n",
      "83 is a prime number\n",
      "89 is a prime number\n",
      "97 is a prime number\n"
     ]
    }
   ],
   "source": [
    "max_n =100\n",
    "for n in range (2, max_n):\n",
    "        for x in range(2,n):\n",
    "            if n% x == 0:\n",
    "                break\n",
    "        else:\n",
    "            print (n, 'is a prime number')\n",
    "                "
   ]
  },
  {
   "cell_type": "code",
   "execution_count": 69,
   "id": "2331183e",
   "metadata": {},
   "outputs": [
    {
     "name": "stdout",
     "output_type": "stream",
     "text": [
      "2\n",
      "3\n",
      "5\n",
      "7\n",
      "11\n",
      "13\n",
      "17\n",
      "19\n",
      "23\n",
      "29\n",
      "31\n",
      "37\n",
      "41\n",
      "43\n",
      "47\n",
      "53\n",
      "59\n",
      "61\n",
      "67\n",
      "71\n",
      "73\n",
      "79\n",
      "83\n",
      "89\n",
      "97\n"
     ]
    }
   ],
   "source": [
    "import math\n",
    "for n in range(2,100):\n",
    "    for i in range(2, int(math.sqrt(n))+1):\n",
    "        if n % i == 0:\n",
    "            break\n",
    "    else:\n",
    "        print(n)"
   ]
  },
  {
   "cell_type": "code",
   "execution_count": 80,
   "id": "97a0d49d",
   "metadata": {},
   "outputs": [
    {
     "name": "stdout",
     "output_type": "stream",
     "text": [
      "Введи целое число: 4\n",
      "Квадрат числа 4 равен: 16\n"
     ]
    }
   ],
   "source": [
    "\"\"\"\n",
    "1.Первая задача этой темы - написать консольную программу, которая вводит целое число a и\n",
    "вычисляет квадрата числa.\n",
    "\"\"\"\n",
    "x = int(input(\"Введи целое число: \"))\n",
    "print (\"Квадрат числа \" + str(x) + \" равен: \" + str(x**2))\n"
   ]
  },
  {
   "cell_type": "code",
   "execution_count": 85,
   "id": "c006831f",
   "metadata": {},
   "outputs": [
    {
     "name": "stdout",
     "output_type": "stream",
     "text": [
      "Введи число: 565\n",
      "565.0 Дюймов = 1435.1 Сантиметров\n"
     ]
    }
   ],
   "source": [
    "\"\"\"\n",
    "2. Напишите программу, которая вводит численное значение с консоли (не обязательно целое) и\n",
    "преобразует число дюймов в сантиметры. Для этой цели, умножаем дюймы на 2,54 (потому что 1\n",
    "дюйм = 2,54 сантиметра).\n",
    "\"\"\"\n",
    "x = float(input(\"Введи число: \"))\n",
    "print (str(x)+ \" Дюймов = \" + str(x*2.54)+ \" Сантиметров\" )\n"
   ]
  },
  {
   "cell_type": "code",
   "execution_count": 93,
   "id": "0832461e",
   "metadata": {},
   "outputs": [
    {
     "name": "stdout",
     "output_type": "stream",
     "text": [
      "Введите ваше имя:Артур\n",
      "Введите фамилию:Кулинич\n",
      "Введите вашу дату рождения:\n",
      "Месяц:Декабрь\n",
      "День:16\n",
      "Год:1990\n",
      "Артур Кулинич родился 16 Декабря 1990 года\n"
     ]
    }
   ],
   "source": [
    "\"\"\"\n",
    "1. В этом упражнении мы запросим у пользователя его имя, фамилию, дату рождения и\n",
    "распечатаем их в определенном формате. Вот пример того, что будет делать программа:.\n",
    "Введите ваше имя: Aнна\n",
    "Введите фамилию: Родионова\n",
    "Введите вашу дату рождения:\n",
    "Месяц? июль\n",
    "День? 31\n",
    "Год? 1997\n",
    "Aнна Родионова родилась 31 июля 1997 года\n",
    "\"\"\"\n",
    "\n",
    "имя = input (\"Введите ваше имя:\")\n",
    "фамилия = input (\"Введите фамилию:\")\n",
    "print(\"Введите вашу дату рождения:\")\n",
    "месяц = input (\"Месяц:\")\n",
    "день = input (\"День:\")\n",
    "год = input (\"Год:\")\n",
    "\n",
    "if фамилия[-1] == \"а\": \n",
    "    слово = \"родилась\"\n",
    "else:\n",
    "    слово = \"родился\"\n",
    "    \n",
    "месяц_2 = \"\"\n",
    "for x in range(len(месяц)-1):\n",
    "        месяц_2 +=месяц[x]\n",
    "месяц = месяц_2 + \"я\" \n",
    "\n",
    "print (имя + \" \" + фамилия + \" \" + слово + \" \" + день + \" \" + месяц + \" \" + год + \" года\")"
   ]
  },
  {
   "cell_type": "code",
   "execution_count": 101,
   "id": "031fc74e",
   "metadata": {},
   "outputs": [
    {
     "name": "stdout",
     "output_type": "stream",
     "text": [
      "введите число: 75\n",
      "Загаданное число меньше\n",
      "введите число: 56\n",
      "Загаданное число меньше\n",
      "введите число: 43\n",
      "Загаданное число больше\n",
      "введите число: 49\n",
      "Загаданное число меньше\n",
      "введите число: 45\n",
      "Верно! Загаданное число:45\n"
     ]
    }
   ],
   "source": [
    "\"\"\"\n",
    "Напишите игру под названием «Угадай значение». Программа будет генерировать случайное\n",
    "значение между 1 и 100. Пользователь вводит свое значение и получает ответ «Меньше», если\n",
    "случайное значение меньше чем введенное, «Больше», если случайное значение больше чем\n",
    "введенное, а также \"Верно!\", если значение угадано. Игрок может продолжать угадывание до\n",
    "правильного ответа.\n",
    "\n",
    "\"\"\"\n",
    "import random\n",
    "x = random.randint(1,100)\n",
    "y = 0\n",
    "while x != y:\n",
    "    y = int(input(\"введите число: \"))\n",
    "    if x > y:\n",
    "        print(\"Загаданное число больше\")\n",
    "    elif x < y:\n",
    "        print(\"Загаданное число меньше\")      \n",
    "print (\"Верно! Загаданное число: \" + str(y))\n",
    "\n",
    "\n"
   ]
  },
  {
   "cell_type": "code",
   "execution_count": 105,
   "id": "bbe441e1",
   "metadata": {},
   "outputs": [
    {
     "name": "stdout",
     "output_type": "stream",
     "text": [
      "0\n",
      "1\n",
      "1\n",
      "2\n",
      "3\n",
      "5\n",
      "8\n"
     ]
    }
   ],
   "source": [
    "def fib(x):\n",
    "    a,b = 0,1\n",
    "    print (a)\n",
    "    while a < x :\n",
    "        print(b)\n",
    "        a,b = b,a +b\n",
    "fib(6)\n"
   ]
  },
  {
   "cell_type": "code",
   "execution_count": 109,
   "id": "a5c78d4c",
   "metadata": {},
   "outputs": [
    {
     "name": "stdout",
     "output_type": "stream",
     "text": [
      "11892.86 \t 142714.29\n",
      "11429.02 \t 274296.41\n",
      "11282.34 \t 406164.27\n",
      "11210.41 \t 538099.46\n",
      "11167.68 \t 670060.98\n",
      "11139.38 \t 802035.48\n",
      "11119.25 \t 934017.35\n",
      "11104.21 \t 1066003.79\n",
      "11092.53 \t 1197993.27\n",
      "11083.21 \t 1329984.87\n"
     ]
    }
   ],
   "source": [
    "def monthly_payments(loanAmount, interestCalculation,years):\n",
    "    numberOfPayments = years * 12\n",
    "    return loanAmount * interestCalculation * (1+interestCalculation) * numberOfPayments / ((1+interestCalculation) * numberOfPayments - 1)\n",
    "for y in range (1,11):\n",
    "    mp = monthly_payments(100000,0.11,y)\n",
    "    print(\"%.2f \\t %.2f\" %( mp, mp * y * 12))\n",
    "    \n",
    "\n"
   ]
  },
  {
   "cell_type": "code",
   "execution_count": 124,
   "id": "c5fca45e",
   "metadata": {},
   "outputs": [
    {
     "name": "stdout",
     "output_type": "stream",
     "text": [
      "2.0000000000262146 2.0\n"
     ]
    }
   ],
   "source": [
    "import math\n",
    "def nuton(x):\n",
    "    a0 = x/2\n",
    "    a1 = x/3\n",
    "    eps = 1e-9\n",
    "    while math.fabs(a1-a0) > eps:\n",
    "        t = a1\n",
    "        a1=1/2*(a0+x/a0)\n",
    "        a0 = t\n",
    "    return a1\n",
    "\n",
    "if __name__ == \"__main__\":\n",
    "    def nut2on(x):\n",
    "        return(x)\n",
    "    print (nuton(4), math.sqrt(4))"
   ]
  },
  {
   "cell_type": "code",
   "execution_count": 145,
   "id": "1bee4a25",
   "metadata": {},
   "outputs": [
    {
     "name": "stdout",
     "output_type": "stream",
     "text": [
      "True\n"
     ]
    }
   ],
   "source": [
    "import math\n",
    "def ploT(a, b, c):\n",
    "    p = 1/2*(a+b+c)\n",
    "    S = math.sqrt(p*(p-a)*(p-b)*(p-c))\n",
    "    return S\n",
    "    \n",
    "def length_line(x1,y1,x2,y2):\n",
    "    return ((x2 - x1)**2 + (y2 - y1)**2 )**(1/2)\n",
    "\n",
    "ax,ay,bx,by,cx,cy,dx,dx = 1,1,1,3,3,1,1.4,1.4\n",
    "\n",
    "lenthAB = length_line(ax,ay,bx,by)\n",
    "lenthBC = length_line(bx,by,cx,cy)\n",
    "lenthCA = length_line(ax,ay,cx,cy)\n",
    "lenthAD = length_line(ax,ay,dx,dx)\n",
    "lenthBD = length_line(bx,by,dx,dx)\n",
    "lenthCD = length_line(dx,dx,cx,cy)\n",
    " \n",
    "\n",
    "triMain=0\n",
    "triMain = ploT(lenthAB,lenthBC,lenthCA)\n",
    "triL1 = ploT(lenthAD,lenthCD,lenthCA)\n",
    "triL2 = ploT(lenthAD,lenthBD,lenthAB)\n",
    "triL3 = ploT(lenthBD,lenthCD,lenthBC)\n",
    "\n",
    "print(round(triMain,2) == round((triL1 + triL2 +triL3),2))"
   ]
  },
  {
   "cell_type": "code",
   "execution_count": 117,
   "id": "2cbe675c",
   "metadata": {},
   "outputs": [
    {
     "name": "stdout",
     "output_type": "stream",
     "text": [
      "2.0000000000262146 2.0\n"
     ]
    }
   ],
   "source": [
    "print (nuton(4), math.sqrt(4))"
   ]
  },
  {
   "cell_type": "code",
   "execution_count": 125,
   "id": "aaf6f845",
   "metadata": {},
   "outputs": [
    {
     "data": {
      "text/plain": [
       "3"
      ]
     },
     "execution_count": 125,
     "metadata": {},
     "output_type": "execute_result"
    }
   ],
   "source": [
    "nut2on(3)"
   ]
  },
  {
   "cell_type": "code",
   "execution_count": 127,
   "id": "6dc1919f",
   "metadata": {},
   "outputs": [
    {
     "data": {
      "text/plain": [
       "['__doc__',\n",
       " '__loader__',\n",
       " '__name__',\n",
       " '__package__',\n",
       " '__spec__',\n",
       " 'acos',\n",
       " 'acosh',\n",
       " 'asin',\n",
       " 'asinh',\n",
       " 'atan',\n",
       " 'atan2',\n",
       " 'atanh',\n",
       " 'ceil',\n",
       " 'comb',\n",
       " 'copysign',\n",
       " 'cos',\n",
       " 'cosh',\n",
       " 'degrees',\n",
       " 'dist',\n",
       " 'e',\n",
       " 'erf',\n",
       " 'erfc',\n",
       " 'exp',\n",
       " 'expm1',\n",
       " 'fabs',\n",
       " 'factorial',\n",
       " 'floor',\n",
       " 'fmod',\n",
       " 'frexp',\n",
       " 'fsum',\n",
       " 'gamma',\n",
       " 'gcd',\n",
       " 'hypot',\n",
       " 'inf',\n",
       " 'isclose',\n",
       " 'isfinite',\n",
       " 'isinf',\n",
       " 'isnan',\n",
       " 'isqrt',\n",
       " 'ldexp',\n",
       " 'lgamma',\n",
       " 'log',\n",
       " 'log10',\n",
       " 'log1p',\n",
       " 'log2',\n",
       " 'modf',\n",
       " 'nan',\n",
       " 'perm',\n",
       " 'pi',\n",
       " 'pow',\n",
       " 'prod',\n",
       " 'radians',\n",
       " 'remainder',\n",
       " 'sin',\n",
       " 'sinh',\n",
       " 'sqrt',\n",
       " 'tan',\n",
       " 'tanh',\n",
       " 'tau',\n",
       " 'trunc']"
      ]
     },
     "execution_count": 127,
     "metadata": {},
     "output_type": "execute_result"
    }
   ],
   "source": [
    "dir(math)"
   ]
  },
  {
   "cell_type": "code",
   "execution_count": 169,
   "id": "8b15c161",
   "metadata": {},
   "outputs": [
    {
     "name": "stdout",
     "output_type": "stream",
     "text": [
      "9 97 52 66 89 87 50 13 12 81\n",
      "9;97;52;66;89;87;50;13;12;81;\n",
      "\n",
      "344.0\n"
     ]
    }
   ],
   "source": [
    "N  = 10\n",
    "A = [random.randint(1,100) for i in range(N)]\n",
    "print(*A)\n",
    "for x in A:\n",
    "    print (x, end = \";\")\n",
    "    \n",
    "print(\"\\n\")\n",
    "print(math.fsum(A[1::2]))\n"
   ]
  },
  {
   "cell_type": "code",
   "execution_count": 170,
   "id": "724f9258",
   "metadata": {},
   "outputs": [
    {
     "ename": "KeyboardInterrupt",
     "evalue": "Interrupted by user",
     "output_type": "error",
     "traceback": [
      "\u001b[1;31m---------------------------------------------------------------------------\u001b[0m",
      "\u001b[1;31mKeyboardInterrupt\u001b[0m                         Traceback (most recent call last)",
      "\u001b[1;32m<ipython-input-170-09da24ba16f2>\u001b[0m in \u001b[0;36m<module>\u001b[1;34m\u001b[0m\n\u001b[1;32m----> 1\u001b[1;33m \u001b[0mA\u001b[0m \u001b[1;33m=\u001b[0m \u001b[1;33m[\u001b[0m\u001b[0mint\u001b[0m\u001b[1;33m(\u001b[0m\u001b[0mx\u001b[0m\u001b[1;33m)\u001b[0m \u001b[1;32mfor\u001b[0m \u001b[0mx\u001b[0m \u001b[1;32min\u001b[0m \u001b[0minput\u001b[0m\u001b[1;33m(\u001b[0m\u001b[1;33m)\u001b[0m\u001b[1;33m.\u001b[0m\u001b[0msplit\u001b[0m\u001b[1;33m(\u001b[0m\u001b[1;34m\";\"\u001b[0m\u001b[1;33m)\u001b[0m\u001b[1;33m]\u001b[0m\u001b[1;33m\u001b[0m\u001b[1;33m\u001b[0m\u001b[0m\n\u001b[0m\u001b[0;32m      2\u001b[0m \u001b[0mprint\u001b[0m \u001b[1;33m(\u001b[0m\u001b[1;33m*\u001b[0m\u001b[0mA\u001b[0m\u001b[1;33m)\u001b[0m\u001b[1;33m\u001b[0m\u001b[1;33m\u001b[0m\u001b[0m\n",
      "\u001b[1;32mC:\\ProgramData\\Anaconda3\\lib\\site-packages\\ipykernel\\kernelbase.py\u001b[0m in \u001b[0;36mraw_input\u001b[1;34m(self, prompt)\u001b[0m\n\u001b[0;32m    858\u001b[0m                 \u001b[1;34m\"raw_input was called, but this frontend does not support input requests.\"\u001b[0m\u001b[1;33m\u001b[0m\u001b[1;33m\u001b[0m\u001b[0m\n\u001b[0;32m    859\u001b[0m             )\n\u001b[1;32m--> 860\u001b[1;33m         return self._input_request(str(prompt),\n\u001b[0m\u001b[0;32m    861\u001b[0m             \u001b[0mself\u001b[0m\u001b[1;33m.\u001b[0m\u001b[0m_parent_ident\u001b[0m\u001b[1;33m,\u001b[0m\u001b[1;33m\u001b[0m\u001b[1;33m\u001b[0m\u001b[0m\n\u001b[0;32m    862\u001b[0m             \u001b[0mself\u001b[0m\u001b[1;33m.\u001b[0m\u001b[0m_parent_header\u001b[0m\u001b[1;33m,\u001b[0m\u001b[1;33m\u001b[0m\u001b[1;33m\u001b[0m\u001b[0m\n",
      "\u001b[1;32mC:\\ProgramData\\Anaconda3\\lib\\site-packages\\ipykernel\\kernelbase.py\u001b[0m in \u001b[0;36m_input_request\u001b[1;34m(self, prompt, ident, parent, password)\u001b[0m\n\u001b[0;32m    902\u001b[0m             \u001b[1;32mexcept\u001b[0m \u001b[0mKeyboardInterrupt\u001b[0m\u001b[1;33m:\u001b[0m\u001b[1;33m\u001b[0m\u001b[1;33m\u001b[0m\u001b[0m\n\u001b[0;32m    903\u001b[0m                 \u001b[1;31m# re-raise KeyboardInterrupt, to truncate traceback\u001b[0m\u001b[1;33m\u001b[0m\u001b[1;33m\u001b[0m\u001b[1;33m\u001b[0m\u001b[0m\n\u001b[1;32m--> 904\u001b[1;33m                 \u001b[1;32mraise\u001b[0m \u001b[0mKeyboardInterrupt\u001b[0m\u001b[1;33m(\u001b[0m\u001b[1;34m\"Interrupted by user\"\u001b[0m\u001b[1;33m)\u001b[0m \u001b[1;32mfrom\u001b[0m \u001b[1;32mNone\u001b[0m\u001b[1;33m\u001b[0m\u001b[1;33m\u001b[0m\u001b[0m\n\u001b[0m\u001b[0;32m    905\u001b[0m             \u001b[1;32mexcept\u001b[0m \u001b[0mException\u001b[0m \u001b[1;32mas\u001b[0m \u001b[0me\u001b[0m\u001b[1;33m:\u001b[0m\u001b[1;33m\u001b[0m\u001b[1;33m\u001b[0m\u001b[0m\n\u001b[0;32m    906\u001b[0m                 \u001b[0mself\u001b[0m\u001b[1;33m.\u001b[0m\u001b[0mlog\u001b[0m\u001b[1;33m.\u001b[0m\u001b[0mwarning\u001b[0m\u001b[1;33m(\u001b[0m\u001b[1;34m\"Invalid Message:\"\u001b[0m\u001b[1;33m,\u001b[0m \u001b[0mexc_info\u001b[0m\u001b[1;33m=\u001b[0m\u001b[1;32mTrue\u001b[0m\u001b[1;33m)\u001b[0m\u001b[1;33m\u001b[0m\u001b[1;33m\u001b[0m\u001b[0m\n",
      "\u001b[1;31mKeyboardInterrupt\u001b[0m: Interrupted by user"
     ]
    }
   ],
   "source": [
    "A = [int(x) for x in input().split(\";\")]\n",
    "print (*A)"
   ]
  },
  {
   "cell_type": "code",
   "execution_count": 173,
   "id": "816f7347",
   "metadata": {},
   "outputs": [
    {
     "ename": "SyntaxError",
     "evalue": "invalid syntax (<ipython-input-173-8baf31ef1301>, line 2)",
     "output_type": "error",
     "traceback": [
      "\u001b[1;36m  File \u001b[1;32m\"<ipython-input-173-8baf31ef1301>\"\u001b[1;36m, line \u001b[1;32m2\u001b[0m\n\u001b[1;33m    fnums = [true if x%2 == 0 else false if x%2 != 0]\u001b[0m\n\u001b[1;37m                                                    ^\u001b[0m\n\u001b[1;31mSyntaxError\u001b[0m\u001b[1;31m:\u001b[0m invalid syntax\n"
     ]
    }
   ],
   "source": [
    "nums = [1,23,4,5,6,7]\n",
    "fnums = [true if x%2 == 0 else false if x%2 != 0]\n",
    "print (*nums)"
   ]
  },
  {
   "cell_type": "code",
   "execution_count": 192,
   "id": "deec1eea",
   "metadata": {},
   "outputs": [
    {
     "name": "stdout",
     "output_type": "stream",
     "text": [
      "1\t2\t3\t4\t5\t6\t7\t8\t9\t10\t\n",
      "\n",
      "2\t4\t6\t8\t10\t12\t14\t16\t18\t20\t\n",
      "\n",
      "3\t6\t9\t12\t15\t18\t21\t24\t27\t30\t\n",
      "\n",
      "4\t8\t12\t16\t20\t24\t28\t32\t36\t40\t\n",
      "\n",
      "5\t10\t15\t20\t25\t30\t35\t40\t45\t50\t\n",
      "\n",
      "6\t12\t18\t24\t30\t36\t42\t48\t54\t60\t\n",
      "\n",
      "7\t14\t21\t28\t35\t42\t49\t56\t63\t70\t\n",
      "\n",
      "8\t16\t24\t32\t40\t48\t56\t64\t72\t80\t\n",
      "\n",
      "9\t18\t27\t36\t45\t54\t63\t72\t81\t90\t\n",
      "\n",
      "10\t20\t30\t40\t50\t60\t70\t80\t90\t100\t\n",
      "\n"
     ]
    }
   ],
   "source": [
    "import numpy as np\n",
    "def print_matrix(m):\n",
    "    for i in range(len(m)):\n",
    "        for j in range(len(m[0])):\n",
    "            print(m[i][j], end = \"\\t\")\n",
    "        print (\"\\n\")\n",
    "\n",
    "\n",
    "mt = []\n",
    "for i in range(10):\n",
    "    mt.append([])\n",
    "    for j in range(10):\n",
    "        mt[i].append((i+1)*(j+1))\n",
    "        \n",
    "print_matrix (mt)\n",
    " \n",
    "\n",
    "        \n",
    "        "
   ]
  },
  {
   "cell_type": "code",
   "execution_count": 188,
   "id": "c9d6a0ee",
   "metadata": {},
   "outputs": [
    {
     "name": "stdout",
     "output_type": "stream",
     "text": [
      "[[ 0.17647059 -0.00326797 -0.02287582]\n",
      " [ 0.05882353 -0.13071895  0.08496732]\n",
      " [-0.11764706  0.1503268   0.05228758]]\n"
     ]
    }
   ],
   "source": [
    "import numpy as np\n",
    "  \n",
    "# Taking a 3 * 3 matrix\n",
    "A = np.array([[6, 1, 1],\n",
    "              [4, -2, 5],\n",
    "              [2, 8, 7]])\n",
    "  \n",
    "# Calculating the inverse of the matrix\n",
    "print(np.linalg.inv(A))"
   ]
  },
  {
   "cell_type": "code",
   "execution_count": 211,
   "id": "b6a80929",
   "metadata": {},
   "outputs": [
    {
     "name": "stdout",
     "output_type": "stream",
     "text": [
      "['1', '2', '3']\n"
     ]
    }
   ],
   "source": [
    "d = {\"1\":\"end\", \"2\":\"water\"}\n",
    "#print (d[\"duck\"])\n",
    "#del d[\"duck\"]\n",
    "\n",
    "d[\"3\"] = \"dasd\"\n",
    "print(sorted(d, key=lambda t:t[0]))\n",
    "\n"
   ]
  },
  {
   "cell_type": "code",
   "execution_count": 18,
   "id": "83671680",
   "metadata": {},
   "outputs": [
    {
     "name": "stdout",
     "output_type": "stream",
     "text": [
      "\n",
      "ывпаывпаы\n",
      "43\n",
      "{'ывпаывпаы': '43'}\n",
      "\n",
      "ыаываы\n",
      "65\n",
      "{'ывпаывпаы': '43', 'ыаываы': '65'}\n",
      "Нет\n",
      "50.333333333333336  max: 65.0\n"
     ]
    }
   ],
   "source": [
    "mt = {}\n",
    "i = 0\n",
    "j= 0\n",
    "sm = 0\n",
    "strrr = \"\"\n",
    "while input() != \"Нет\":\n",
    "    strrr = input()\n",
    "    mt[strrr] =  input()\n",
    "    print (mt)\n",
    "    mx = 0\n",
    "    for t in mt.values():\n",
    "        j += 1\n",
    "        sm += float(t)\n",
    "        if mx < float(t):\n",
    "            mx = float(t)\n",
    "    sr = sm/j\n",
    "    \n",
    "print(sr, \" max:\", mx)\n",
    "\n",
    "\n"
   ]
  },
  {
   "cell_type": "code",
   "execution_count": 14,
   "id": "f3326876",
   "metadata": {},
   "outputs": [
    {
     "name": "stdout",
     "output_type": "stream",
     "text": [
      "[[13, 18, 25], [30, 50], [77, 88, 99], [101, 121]]\n"
     ]
    }
   ],
   "source": [
    "my2DList = [[13,18,21], [30,40,50], [77,88,99]]\n",
    "my2DList[0][2] = 25\n",
    "my2DList.append([101, 121])\n",
    "del my2DList[1][1]\n",
    "\n",
    "print(my2DList)\n"
   ]
  },
  {
   "cell_type": "code",
   "execution_count": 18,
   "id": "6273f88a",
   "metadata": {},
   "outputs": [
    {
     "name": "stdout",
     "output_type": "stream",
     "text": [
      "\n",
      "True\n"
     ]
    }
   ],
   "source": [
    "def isPosindr(txt):\n",
    "    #print(len(txt))\n",
    "    i = -1\n",
    "    cnt = 0\n",
    "    for t in txt: \n",
    "        if str(t).upper() != str(txt[i]).upper():\n",
    "            break\n",
    "        else:\n",
    "            cnt += 1\n",
    "        i -= 1\n",
    "        #print(t)\n",
    "    if cnt == len(txt):\n",
    "        print(True)\n",
    "    else:\n",
    "        print(False)\n",
    "        \n",
    "        \n",
    "import re\n",
    "txt = input()\n",
    "isPosindr(txt)"
   ]
  },
  {
   "cell_type": "code",
   "execution_count": 41,
   "id": "82009c71",
   "metadata": {},
   "outputs": [
    {
     "name": "stdout",
     "output_type": "stream",
     "text": [
      "[('и', 4), ('s', 3), ('возвращает', 2), ('Напишите', 1), ('функцию', 1), ('is_palindrome', 1), ('которая', 1), ('принимает', 1), ('строку', 1), ('значение', 1), ('True', 1), ('если', 1), ('является', 1), ('палиндром', 1), ('False', 1), ('в', 1), ('противном', 1), ('случае', 1), ('Палиндром', 1), ('это', 1), ('слово', 1), ('которое', 1), ('читается', 1), ('одинаково', 1), ('слево', 1), ('направо', 1), ('справо', 1), ('налево', 1), ('например', 1), ('abba', 1), ('madam', 1), ('kayak', 1), ('radar', 1), ('rotator', 1), ('АРОЗАУПАЛАНАЛАПУАЗОРА', 1)]\n"
     ]
    }
   ],
   "source": [
    "import re\n",
    "dre=re.compile(r\"[,-.()\\n ]\")\n",
    "lst = {}\n",
    "txt = \"\"\"Напишите функцию is_palindrome (s), которая принимает строку s и возвращает значение True,\n",
    "если s является палиндром и возвращает False в противном случае. Палиндром - это слово,\n",
    "которое читается одинаково слево-направо, и справо-налево, например abba, madam, kayak, radar\n",
    "и rotator, АРОЗАУПАЛАНАЛАПУАЗОРА.\"\"\"\n",
    "for wrd in dre.split(txt):\n",
    "    if len(wrd)>0:\n",
    "        #lst.append(str(wrd))\n",
    "        if wrd in lst:\n",
    "            #print(wrd)\n",
    "            lst[wrd] += 1\n",
    "        else:\n",
    "            #print(wrd)\n",
    "            lst[wrd] = 1\n",
    "print(sorted(lst.items(), key=lambda kv: kv[1],reverse=True))\n",
    "\n"
   ]
  },
  {
   "cell_type": "code",
   "execution_count": 92,
   "id": "18f4bd9b",
   "metadata": {},
   "outputs": [
    {
     "name": "stdout",
     "output_type": "stream",
     "text": [
      "['■', '■', '■', '■', '■'] \t| x 3\n",
      "Введите букву или слово целиком: м\n",
      "['■', '■', '■', '■', '■'] \t| x 2\n",
      "Введите букву или слово целиком: с\n",
      "['■', '■', '■', '■', '■'] \t| x 1\n",
      "Введите букву или слово целиком: р\n",
      "['Р', '■', '■', '■', '■'] \t| x 1\n",
      "Введите букву или слово целиком: ручка\n",
      "РУЧКА \t| x 1\n",
      "Вы выиграли\n"
     ]
    }
   ],
   "source": [
    "import pdb\n",
    "import random\n",
    "\n",
    "#pdb.set_trace()\n",
    "\n",
    "words = [\"книга\", \"месяц\", \"ручка\", \"шарик\", \"олень\", \"носок\"]\n",
    "#print(random.randint(0,5))\n",
    "thisWord = words[random.randint(0,5)]\n",
    "#print(thisWord)\n",
    "wordsGues = [\"\\u25A0\",\"\\u25A0\",\"\\u25A0\",\"\\u25A0\",\"\\u25A0\"]\n",
    "health = 3\n",
    "print(wordsGues, \"\\t| x\", health)\n",
    "guess = 0\n",
    "while health > 0:\n",
    "    g = input(\"Введите букву или слово целиком: \")\n",
    "    if len(g) > 1:\n",
    "        if g == thisWord:\n",
    "            print(str(thisWord).upper(), \"\\t| x\", health)\n",
    "            print(\"Вы выиграли\")\n",
    "            break\n",
    "        else:\n",
    "            print(\"Неправильно\")\n",
    "            health -= 1\n",
    "            print(wordsGues, \"\\t| x\", health)\n",
    "    else: \n",
    "        i = 0\n",
    "        j = 0\n",
    "        for symb in thisWord:\n",
    "            if str(symb).upper() == str(g).upper():\n",
    "                wordsGues[i] = str(g).upper()\n",
    "                j +=1\n",
    "                #print(\"ok\")\n",
    "            #else:\n",
    "                #print(\"not OK2\")\n",
    "            i += 1\n",
    "        if j == 0:\n",
    "            health -= 1\n",
    "            print(wordsGues, \"\\t| x\", health)\n",
    "        else:\n",
    "            print(wordsGues, \"\\t| x\", health)\n",
    "        #print(wordsGues)\n",
    "        \n",
    "        \n"
   ]
  },
  {
   "cell_type": "code",
   "execution_count": 1,
   "id": "bfe6a8e5",
   "metadata": {},
   "outputs": [
    {
     "name": "stdout",
     "output_type": "stream",
     "text": [
      "Requirement already satisfied: ipykernel in c:\\programdata\\anaconda3\\lib\\site-packages (5.3.4)\n",
      "Requirement already satisfied: traitlets>=4.1.0 in c:\\programdata\\anaconda3\\lib\\site-packages (from ipykernel) (5.0.5)\n",
      "Requirement already satisfied: tornado>=4.2 in c:\\programdata\\anaconda3\\lib\\site-packages (from ipykernel) (6.1)\n",
      "Requirement already satisfied: ipython>=5.0.0 in c:\\programdata\\anaconda3\\lib\\site-packages (from ipykernel) (7.22.0)\n",
      "Note: you may need to restart the kernel to use updated packages.\n",
      "Requirement already satisfied: jupyter-client in c:\\programdata\\anaconda3\\lib\\site-packages (from ipykernel) (6.1.12)\n",
      "Requirement already satisfied: pygments in c:\\programdata\\anaconda3\\lib\\site-packages (from ipython>=5.0.0->ipykernel) (2.8.1)\n",
      "Requirement already satisfied: colorama in c:\\programdata\\anaconda3\\lib\\site-packages (from ipython>=5.0.0->ipykernel) (0.4.4)\n",
      "Requirement already satisfied: prompt-toolkit!=3.0.0,!=3.0.1,<3.1.0,>=2.0.0 in c:\\programdata\\anaconda3\\lib\\site-packages (from ipython>=5.0.0->ipykernel) (3.0.17)\n",
      "Requirement already satisfied: backcall in c:\\programdata\\anaconda3\\lib\\site-packages (from ipython>=5.0.0->ipykernel) (0.2.0)\n",
      "Requirement already satisfied: jedi>=0.16 in c:\\programdata\\anaconda3\\lib\\site-packages (from ipython>=5.0.0->ipykernel) (0.17.2)\n",
      "Requirement already satisfied: pickleshare in c:\\programdata\\anaconda3\\lib\\site-packages (from ipython>=5.0.0->ipykernel) (0.7.5)\n",
      "Requirement already satisfied: setuptools>=18.5 in c:\\programdata\\anaconda3\\lib\\site-packages (from ipython>=5.0.0->ipykernel) (52.0.0.post20210125)\n",
      "Requirement already satisfied: decorator in c:\\programdata\\anaconda3\\lib\\site-packages (from ipython>=5.0.0->ipykernel) (5.0.6)\n",
      "Requirement already satisfied: parso<0.8.0,>=0.7.0 in c:\\programdata\\anaconda3\\lib\\site-packages (from jedi>=0.16->ipython>=5.0.0->ipykernel) (0.7.0)\n",
      "Requirement already satisfied: wcwidth in c:\\programdata\\anaconda3\\lib\\site-packages (from prompt-toolkit!=3.0.0,!=3.0.1,<3.1.0,>=2.0.0->ipython>=5.0.0->ipykernel) (0.2.5)\n",
      "Requirement already satisfied: ipython-genutils in c:\\programdata\\anaconda3\\lib\\site-packages (from traitlets>=4.1.0->ipykernel) (0.2.0)\n",
      "Requirement already satisfied: jupyter-core>=4.6.0 in c:\\programdata\\anaconda3\\lib\\site-packages (from jupyter-client->ipykernel) (4.7.1)\n",
      "Requirement already satisfied: python-dateutil>=2.1 in c:\\programdata\\anaconda3\\lib\\site-packages (from jupyter-client->ipykernel) (2.8.1)\n",
      "Requirement already satisfied: pyzmq>=13 in c:\\programdata\\anaconda3\\lib\\site-packages (from jupyter-client->ipykernel) (20.0.0)\n",
      "Requirement already satisfied: pywin32>=1.0 in c:\\programdata\\anaconda3\\lib\\site-packages (from jupyter-core>=4.6.0->jupyter-client->ipykernel) (227)\n",
      "Requirement already satisfied: six>=1.5 in c:\\programdata\\anaconda3\\lib\\site-packages (from python-dateutil>=2.1->jupyter-client->ipykernel) (1.15.0)\n"
     ]
    }
   ],
   "source": [
    "pip install ipykernel --pre\n"
   ]
  },
  {
   "cell_type": "code",
   "execution_count": null,
   "id": "8ba7f09a",
   "metadata": {},
   "outputs": [],
   "source": []
  }
 ],
 "metadata": {
  "kernelspec": {
   "display_name": "Python 3",
   "language": "python",
   "name": "python3"
  },
  "language_info": {
   "codemirror_mode": {
    "name": "ipython",
    "version": 3
   },
   "file_extension": ".py",
   "mimetype": "text/x-python",
   "name": "python",
   "nbconvert_exporter": "python",
   "pygments_lexer": "ipython3",
   "version": "3.8.8"
  }
 },
 "nbformat": 4,
 "nbformat_minor": 5
}
